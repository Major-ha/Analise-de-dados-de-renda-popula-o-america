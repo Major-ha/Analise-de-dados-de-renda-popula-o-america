{
 "cells": [
  {
   "cell_type": "markdown",
   "id": "0a76d9e8",
   "metadata": {},
   "source": [
    "# Estudo das variáveis categóricas de um conjunto de dados"
   ]
  },
  {
   "cell_type": "markdown",
   "id": "2f1b163f",
   "metadata": {},
   "source": [
    "#### https://www.kaggle.com/uciml/adult-census-income ( link para o conjunto de dados )"
   ]
  },
  {
   "cell_type": "markdown",
   "id": "3814cd6a",
   "metadata": {},
   "source": [
    "# Importando as biliotecas necessárias para a análise de dados"
   ]
  },
  {
   "cell_type": "code",
   "execution_count": 682,
   "id": "666c653c",
   "metadata": {},
   "outputs": [],
   "source": [
    "import pandas as pd"
   ]
  },
  {
   "cell_type": "markdown",
   "id": "f0744c10",
   "metadata": {},
   "source": [
    "# Lendo o arquivo de dados"
   ]
  },
  {
   "cell_type": "code",
   "execution_count": 683,
   "id": "e1d4512e",
   "metadata": {},
   "outputs": [
    {
     "data": {
      "text/html": [
       "<div>\n",
       "<style scoped>\n",
       "    .dataframe tbody tr th:only-of-type {\n",
       "        vertical-align: middle;\n",
       "    }\n",
       "\n",
       "    .dataframe tbody tr th {\n",
       "        vertical-align: top;\n",
       "    }\n",
       "\n",
       "    .dataframe thead th {\n",
       "        text-align: right;\n",
       "    }\n",
       "</style>\n",
       "<table border=\"1\" class=\"dataframe\">\n",
       "  <thead>\n",
       "    <tr style=\"text-align: right;\">\n",
       "      <th></th>\n",
       "      <th>age</th>\n",
       "      <th>workclass</th>\n",
       "      <th>fnlwgt</th>\n",
       "      <th>education</th>\n",
       "      <th>education.num</th>\n",
       "      <th>marital.status</th>\n",
       "      <th>occupation</th>\n",
       "      <th>relationship</th>\n",
       "      <th>race</th>\n",
       "      <th>sex</th>\n",
       "      <th>capital.gain</th>\n",
       "      <th>capital.loss</th>\n",
       "      <th>hours.per.week</th>\n",
       "      <th>native.country</th>\n",
       "      <th>income</th>\n",
       "    </tr>\n",
       "  </thead>\n",
       "  <tbody>\n",
       "    <tr>\n",
       "      <th>0</th>\n",
       "      <td>90</td>\n",
       "      <td>?</td>\n",
       "      <td>77053</td>\n",
       "      <td>HS-grad</td>\n",
       "      <td>9</td>\n",
       "      <td>Widowed</td>\n",
       "      <td>?</td>\n",
       "      <td>Not-in-family</td>\n",
       "      <td>White</td>\n",
       "      <td>Female</td>\n",
       "      <td>0</td>\n",
       "      <td>4356</td>\n",
       "      <td>40</td>\n",
       "      <td>United-States</td>\n",
       "      <td>&lt;=50K</td>\n",
       "    </tr>\n",
       "    <tr>\n",
       "      <th>1</th>\n",
       "      <td>82</td>\n",
       "      <td>Private</td>\n",
       "      <td>132870</td>\n",
       "      <td>HS-grad</td>\n",
       "      <td>9</td>\n",
       "      <td>Widowed</td>\n",
       "      <td>Exec-managerial</td>\n",
       "      <td>Not-in-family</td>\n",
       "      <td>White</td>\n",
       "      <td>Female</td>\n",
       "      <td>0</td>\n",
       "      <td>4356</td>\n",
       "      <td>18</td>\n",
       "      <td>United-States</td>\n",
       "      <td>&lt;=50K</td>\n",
       "    </tr>\n",
       "    <tr>\n",
       "      <th>2</th>\n",
       "      <td>66</td>\n",
       "      <td>?</td>\n",
       "      <td>186061</td>\n",
       "      <td>Some-college</td>\n",
       "      <td>10</td>\n",
       "      <td>Widowed</td>\n",
       "      <td>?</td>\n",
       "      <td>Unmarried</td>\n",
       "      <td>Black</td>\n",
       "      <td>Female</td>\n",
       "      <td>0</td>\n",
       "      <td>4356</td>\n",
       "      <td>40</td>\n",
       "      <td>United-States</td>\n",
       "      <td>&lt;=50K</td>\n",
       "    </tr>\n",
       "    <tr>\n",
       "      <th>3</th>\n",
       "      <td>54</td>\n",
       "      <td>Private</td>\n",
       "      <td>140359</td>\n",
       "      <td>7th-8th</td>\n",
       "      <td>4</td>\n",
       "      <td>Divorced</td>\n",
       "      <td>Machine-op-inspct</td>\n",
       "      <td>Unmarried</td>\n",
       "      <td>White</td>\n",
       "      <td>Female</td>\n",
       "      <td>0</td>\n",
       "      <td>3900</td>\n",
       "      <td>40</td>\n",
       "      <td>United-States</td>\n",
       "      <td>&lt;=50K</td>\n",
       "    </tr>\n",
       "    <tr>\n",
       "      <th>4</th>\n",
       "      <td>41</td>\n",
       "      <td>Private</td>\n",
       "      <td>264663</td>\n",
       "      <td>Some-college</td>\n",
       "      <td>10</td>\n",
       "      <td>Separated</td>\n",
       "      <td>Prof-specialty</td>\n",
       "      <td>Own-child</td>\n",
       "      <td>White</td>\n",
       "      <td>Female</td>\n",
       "      <td>0</td>\n",
       "      <td>3900</td>\n",
       "      <td>40</td>\n",
       "      <td>United-States</td>\n",
       "      <td>&lt;=50K</td>\n",
       "    </tr>\n",
       "    <tr>\n",
       "      <th>...</th>\n",
       "      <td>...</td>\n",
       "      <td>...</td>\n",
       "      <td>...</td>\n",
       "      <td>...</td>\n",
       "      <td>...</td>\n",
       "      <td>...</td>\n",
       "      <td>...</td>\n",
       "      <td>...</td>\n",
       "      <td>...</td>\n",
       "      <td>...</td>\n",
       "      <td>...</td>\n",
       "      <td>...</td>\n",
       "      <td>...</td>\n",
       "      <td>...</td>\n",
       "      <td>...</td>\n",
       "    </tr>\n",
       "    <tr>\n",
       "      <th>32556</th>\n",
       "      <td>22</td>\n",
       "      <td>Private</td>\n",
       "      <td>310152</td>\n",
       "      <td>Some-college</td>\n",
       "      <td>10</td>\n",
       "      <td>Never-married</td>\n",
       "      <td>Protective-serv</td>\n",
       "      <td>Not-in-family</td>\n",
       "      <td>White</td>\n",
       "      <td>Male</td>\n",
       "      <td>0</td>\n",
       "      <td>0</td>\n",
       "      <td>40</td>\n",
       "      <td>United-States</td>\n",
       "      <td>&lt;=50K</td>\n",
       "    </tr>\n",
       "    <tr>\n",
       "      <th>32557</th>\n",
       "      <td>27</td>\n",
       "      <td>Private</td>\n",
       "      <td>257302</td>\n",
       "      <td>Assoc-acdm</td>\n",
       "      <td>12</td>\n",
       "      <td>Married-civ-spouse</td>\n",
       "      <td>Tech-support</td>\n",
       "      <td>Wife</td>\n",
       "      <td>White</td>\n",
       "      <td>Female</td>\n",
       "      <td>0</td>\n",
       "      <td>0</td>\n",
       "      <td>38</td>\n",
       "      <td>United-States</td>\n",
       "      <td>&lt;=50K</td>\n",
       "    </tr>\n",
       "    <tr>\n",
       "      <th>32558</th>\n",
       "      <td>40</td>\n",
       "      <td>Private</td>\n",
       "      <td>154374</td>\n",
       "      <td>HS-grad</td>\n",
       "      <td>9</td>\n",
       "      <td>Married-civ-spouse</td>\n",
       "      <td>Machine-op-inspct</td>\n",
       "      <td>Husband</td>\n",
       "      <td>White</td>\n",
       "      <td>Male</td>\n",
       "      <td>0</td>\n",
       "      <td>0</td>\n",
       "      <td>40</td>\n",
       "      <td>United-States</td>\n",
       "      <td>&gt;50K</td>\n",
       "    </tr>\n",
       "    <tr>\n",
       "      <th>32559</th>\n",
       "      <td>58</td>\n",
       "      <td>Private</td>\n",
       "      <td>151910</td>\n",
       "      <td>HS-grad</td>\n",
       "      <td>9</td>\n",
       "      <td>Widowed</td>\n",
       "      <td>Adm-clerical</td>\n",
       "      <td>Unmarried</td>\n",
       "      <td>White</td>\n",
       "      <td>Female</td>\n",
       "      <td>0</td>\n",
       "      <td>0</td>\n",
       "      <td>40</td>\n",
       "      <td>United-States</td>\n",
       "      <td>&lt;=50K</td>\n",
       "    </tr>\n",
       "    <tr>\n",
       "      <th>32560</th>\n",
       "      <td>22</td>\n",
       "      <td>Private</td>\n",
       "      <td>201490</td>\n",
       "      <td>HS-grad</td>\n",
       "      <td>9</td>\n",
       "      <td>Never-married</td>\n",
       "      <td>Adm-clerical</td>\n",
       "      <td>Own-child</td>\n",
       "      <td>White</td>\n",
       "      <td>Male</td>\n",
       "      <td>0</td>\n",
       "      <td>0</td>\n",
       "      <td>20</td>\n",
       "      <td>United-States</td>\n",
       "      <td>&lt;=50K</td>\n",
       "    </tr>\n",
       "  </tbody>\n",
       "</table>\n",
       "<p>32561 rows × 15 columns</p>\n",
       "</div>"
      ],
      "text/plain": [
       "       age workclass  fnlwgt     education  education.num      marital.status  \\\n",
       "0       90         ?   77053       HS-grad              9             Widowed   \n",
       "1       82   Private  132870       HS-grad              9             Widowed   \n",
       "2       66         ?  186061  Some-college             10             Widowed   \n",
       "3       54   Private  140359       7th-8th              4            Divorced   \n",
       "4       41   Private  264663  Some-college             10           Separated   \n",
       "...    ...       ...     ...           ...            ...                 ...   \n",
       "32556   22   Private  310152  Some-college             10       Never-married   \n",
       "32557   27   Private  257302    Assoc-acdm             12  Married-civ-spouse   \n",
       "32558   40   Private  154374       HS-grad              9  Married-civ-spouse   \n",
       "32559   58   Private  151910       HS-grad              9             Widowed   \n",
       "32560   22   Private  201490       HS-grad              9       Never-married   \n",
       "\n",
       "              occupation   relationship   race     sex  capital.gain  \\\n",
       "0                      ?  Not-in-family  White  Female             0   \n",
       "1        Exec-managerial  Not-in-family  White  Female             0   \n",
       "2                      ?      Unmarried  Black  Female             0   \n",
       "3      Machine-op-inspct      Unmarried  White  Female             0   \n",
       "4         Prof-specialty      Own-child  White  Female             0   \n",
       "...                  ...            ...    ...     ...           ...   \n",
       "32556    Protective-serv  Not-in-family  White    Male             0   \n",
       "32557       Tech-support           Wife  White  Female             0   \n",
       "32558  Machine-op-inspct        Husband  White    Male             0   \n",
       "32559       Adm-clerical      Unmarried  White  Female             0   \n",
       "32560       Adm-clerical      Own-child  White    Male             0   \n",
       "\n",
       "       capital.loss  hours.per.week native.country income  \n",
       "0              4356              40  United-States  <=50K  \n",
       "1              4356              18  United-States  <=50K  \n",
       "2              4356              40  United-States  <=50K  \n",
       "3              3900              40  United-States  <=50K  \n",
       "4              3900              40  United-States  <=50K  \n",
       "...             ...             ...            ...    ...  \n",
       "32556             0              40  United-States  <=50K  \n",
       "32557             0              38  United-States  <=50K  \n",
       "32558             0              40  United-States   >50K  \n",
       "32559             0              40  United-States  <=50K  \n",
       "32560             0              20  United-States  <=50K  \n",
       "\n",
       "[32561 rows x 15 columns]"
      ]
     },
     "execution_count": 683,
     "metadata": {},
     "output_type": "execute_result"
    }
   ],
   "source": [
    "dados = pd.read_csv('dados/adult.csv')\n",
    "dados"
   ]
  },
  {
   "cell_type": "markdown",
   "id": "a98b6db3",
   "metadata": {},
   "source": [
    "## É muito importante darmos uma olhada nas informações básicas dos dados, nesta etapa identificamos a quantidade de registros não-nulos, a quantidade total de registros, os tipos de variáveis, dentre outras informações"
   ]
  },
  {
   "cell_type": "code",
   "execution_count": 684,
   "id": "ab5921bd",
   "metadata": {},
   "outputs": [
    {
     "name": "stdout",
     "output_type": "stream",
     "text": [
      "<class 'pandas.core.frame.DataFrame'>\n",
      "RangeIndex: 32561 entries, 0 to 32560\n",
      "Data columns (total 15 columns):\n",
      " #   Column          Non-Null Count  Dtype \n",
      "---  ------          --------------  ----- \n",
      " 0   age             32561 non-null  int64 \n",
      " 1   workclass       32561 non-null  object\n",
      " 2   fnlwgt          32561 non-null  int64 \n",
      " 3   education       32561 non-null  object\n",
      " 4   education.num   32561 non-null  int64 \n",
      " 5   marital.status  32561 non-null  object\n",
      " 6   occupation      32561 non-null  object\n",
      " 7   relationship    32561 non-null  object\n",
      " 8   race            32561 non-null  object\n",
      " 9   sex             32561 non-null  object\n",
      " 10  capital.gain    32561 non-null  int64 \n",
      " 11  capital.loss    32561 non-null  int64 \n",
      " 12  hours.per.week  32561 non-null  int64 \n",
      " 13  native.country  32561 non-null  object\n",
      " 14  income          32561 non-null  object\n",
      "dtypes: int64(6), object(9)\n",
      "memory usage: 3.7+ MB\n"
     ]
    }
   ],
   "source": [
    "dados.info()"
   ]
  },
  {
   "cell_type": "markdown",
   "id": "9353e212",
   "metadata": {},
   "source": [
    "# Calculando a frequência de homens e mulheres no dataset"
   ]
  },
  {
   "cell_type": "code",
   "execution_count": 685,
   "id": "75115d3d",
   "metadata": {},
   "outputs": [
    {
     "data": {
      "text/plain": [
       "Male      21790\n",
       "Female    10771\n",
       "Name: sex, dtype: int64"
      ]
     },
     "execution_count": 685,
     "metadata": {},
     "output_type": "execute_result"
    }
   ],
   "source": [
    "frequencia = dados.sex.value_counts()\n",
    "frequencia"
   ]
  },
  {
   "cell_type": "markdown",
   "id": "dc27712c",
   "metadata": {},
   "source": [
    "# Calculando a porcentagem relativa a homens e mulheres no dataset"
   ]
  },
  {
   "cell_type": "code",
   "execution_count": 686,
   "id": "dda58168",
   "metadata": {},
   "outputs": [
    {
     "data": {
      "text/plain": [
       "Male      66.920549\n",
       "Female    33.079451\n",
       "Name: sex, dtype: float64"
      ]
     },
     "execution_count": 686,
     "metadata": {},
     "output_type": "execute_result"
    }
   ],
   "source": [
    "porcentagem = dados.sex.value_counts(normalize = True)*100\n",
    "porcentagem"
   ]
  },
  {
   "cell_type": "markdown",
   "id": "6bba195e",
   "metadata": {},
   "source": [
    "# Montando a tabela de frequencia com a variável sexo"
   ]
  },
  {
   "cell_type": "code",
   "execution_count": 687,
   "id": "f85b79f8",
   "metadata": {},
   "outputs": [],
   "source": [
    "tab_freq_sex = pd.DataFrame({'frequencia': frequencia , 'porcentagem': porcentagem})"
   ]
  },
  {
   "cell_type": "code",
   "execution_count": 688,
   "id": "c3fdd128",
   "metadata": {},
   "outputs": [
    {
     "data": {
      "text/html": [
       "<div>\n",
       "<style scoped>\n",
       "    .dataframe tbody tr th:only-of-type {\n",
       "        vertical-align: middle;\n",
       "    }\n",
       "\n",
       "    .dataframe tbody tr th {\n",
       "        vertical-align: top;\n",
       "    }\n",
       "\n",
       "    .dataframe thead th {\n",
       "        text-align: right;\n",
       "    }\n",
       "</style>\n",
       "<table border=\"1\" class=\"dataframe\">\n",
       "  <thead>\n",
       "    <tr style=\"text-align: right;\">\n",
       "      <th></th>\n",
       "      <th>frequencia</th>\n",
       "      <th>porcentagem</th>\n",
       "    </tr>\n",
       "  </thead>\n",
       "  <tbody>\n",
       "    <tr>\n",
       "      <th>Male</th>\n",
       "      <td>21790</td>\n",
       "      <td>66.920549</td>\n",
       "    </tr>\n",
       "    <tr>\n",
       "      <th>Female</th>\n",
       "      <td>10771</td>\n",
       "      <td>33.079451</td>\n",
       "    </tr>\n",
       "  </tbody>\n",
       "</table>\n",
       "</div>"
      ],
      "text/plain": [
       "        frequencia  porcentagem\n",
       "Male         21790    66.920549\n",
       "Female       10771    33.079451"
      ]
     },
     "execution_count": 688,
     "metadata": {},
     "output_type": "execute_result"
    }
   ],
   "source": [
    "tab_freq_sex"
   ]
  },
  {
   "cell_type": "code",
   "execution_count": 689,
   "id": "995f6f9d",
   "metadata": {},
   "outputs": [],
   "source": [
    "### tab_freq_sex = pd.crosstab(dados.sex, dados.race)"
   ]
  },
  {
   "cell_type": "markdown",
   "id": "08ce3f1a",
   "metadata": {},
   "source": [
    "## Renomeando a coluna Sexo"
   ]
  },
  {
   "cell_type": "code",
   "execution_count": 690,
   "id": "d4ffd8bc",
   "metadata": {},
   "outputs": [],
   "source": [
    "tab_freq_sex.rename_axis('Sexo', axis = 'columns', inplace = True)"
   ]
  },
  {
   "cell_type": "code",
   "execution_count": 691,
   "id": "c4cf4e95",
   "metadata": {},
   "outputs": [
    {
     "data": {
      "text/html": [
       "<div>\n",
       "<style scoped>\n",
       "    .dataframe tbody tr th:only-of-type {\n",
       "        vertical-align: middle;\n",
       "    }\n",
       "\n",
       "    .dataframe tbody tr th {\n",
       "        vertical-align: top;\n",
       "    }\n",
       "\n",
       "    .dataframe thead th {\n",
       "        text-align: right;\n",
       "    }\n",
       "</style>\n",
       "<table border=\"1\" class=\"dataframe\">\n",
       "  <thead>\n",
       "    <tr style=\"text-align: right;\">\n",
       "      <th>Sexo</th>\n",
       "      <th>frequencia</th>\n",
       "      <th>porcentagem</th>\n",
       "    </tr>\n",
       "  </thead>\n",
       "  <tbody>\n",
       "    <tr>\n",
       "      <th>Male</th>\n",
       "      <td>21790</td>\n",
       "      <td>66.920549</td>\n",
       "    </tr>\n",
       "    <tr>\n",
       "      <th>Female</th>\n",
       "      <td>10771</td>\n",
       "      <td>33.079451</td>\n",
       "    </tr>\n",
       "  </tbody>\n",
       "</table>\n",
       "</div>"
      ],
      "text/plain": [
       "Sexo    frequencia  porcentagem\n",
       "Male         21790    66.920549\n",
       "Female       10771    33.079451"
      ]
     },
     "execution_count": 691,
     "metadata": {},
     "output_type": "execute_result"
    }
   ],
   "source": [
    "tab_freq_sex"
   ]
  },
  {
   "cell_type": "markdown",
   "id": "80572287",
   "metadata": {},
   "source": [
    "## Traduzindo o nome das linhas"
   ]
  },
  {
   "cell_type": "code",
   "execution_count": 692,
   "id": "c395ad7f",
   "metadata": {},
   "outputs": [
    {
     "data": {
      "text/html": [
       "<div>\n",
       "<style scoped>\n",
       "    .dataframe tbody tr th:only-of-type {\n",
       "        vertical-align: middle;\n",
       "    }\n",
       "\n",
       "    .dataframe tbody tr th {\n",
       "        vertical-align: top;\n",
       "    }\n",
       "\n",
       "    .dataframe thead th {\n",
       "        text-align: right;\n",
       "    }\n",
       "</style>\n",
       "<table border=\"1\" class=\"dataframe\">\n",
       "  <thead>\n",
       "    <tr style=\"text-align: right;\">\n",
       "      <th>Sexo</th>\n",
       "      <th>frequencia</th>\n",
       "      <th>porcentagem</th>\n",
       "    </tr>\n",
       "  </thead>\n",
       "  <tbody>\n",
       "    <tr>\n",
       "      <th>Masculino</th>\n",
       "      <td>21790</td>\n",
       "      <td>66.920549</td>\n",
       "    </tr>\n",
       "    <tr>\n",
       "      <th>Feminino</th>\n",
       "      <td>10771</td>\n",
       "      <td>33.079451</td>\n",
       "    </tr>\n",
       "  </tbody>\n",
       "</table>\n",
       "</div>"
      ],
      "text/plain": [
       "Sexo       frequencia  porcentagem\n",
       "Masculino       21790    66.920549\n",
       "Feminino        10771    33.079451"
      ]
     },
     "execution_count": 692,
     "metadata": {},
     "output_type": "execute_result"
    }
   ],
   "source": [
    "tab_freq_sex.rename(index = {'Male': 'Masculino', 'Female': 'Feminino'}, inplace=True)\n",
    "tab_freq_sex"
   ]
  },
  {
   "cell_type": "markdown",
   "id": "24f3d409",
   "metadata": {},
   "source": [
    "## Criando uma tabela de frequencia com distribuição de sexo e cor, mas agora usando o método crosstab\n",
    "### Poderíamos fazer conforme feito acima mas o método crosstab é mais prático e elegante"
   ]
  },
  {
   "cell_type": "code",
   "execution_count": 693,
   "id": "c7f20e3b",
   "metadata": {},
   "outputs": [
    {
     "data": {
      "text/html": [
       "<div>\n",
       "<style scoped>\n",
       "    .dataframe tbody tr th:only-of-type {\n",
       "        vertical-align: middle;\n",
       "    }\n",
       "\n",
       "    .dataframe tbody tr th {\n",
       "        vertical-align: top;\n",
       "    }\n",
       "\n",
       "    .dataframe thead th {\n",
       "        text-align: right;\n",
       "    }\n",
       "</style>\n",
       "<table border=\"1\" class=\"dataframe\">\n",
       "  <thead>\n",
       "    <tr style=\"text-align: right;\">\n",
       "      <th>race</th>\n",
       "      <th>Amer-Indian-Eskimo</th>\n",
       "      <th>Asian-Pac-Islander</th>\n",
       "      <th>Black</th>\n",
       "      <th>Other</th>\n",
       "      <th>White</th>\n",
       "    </tr>\n",
       "    <tr>\n",
       "      <th>sex</th>\n",
       "      <th></th>\n",
       "      <th></th>\n",
       "      <th></th>\n",
       "      <th></th>\n",
       "      <th></th>\n",
       "    </tr>\n",
       "  </thead>\n",
       "  <tbody>\n",
       "    <tr>\n",
       "      <th>Female</th>\n",
       "      <td>119</td>\n",
       "      <td>346</td>\n",
       "      <td>1555</td>\n",
       "      <td>109</td>\n",
       "      <td>8642</td>\n",
       "    </tr>\n",
       "    <tr>\n",
       "      <th>Male</th>\n",
       "      <td>192</td>\n",
       "      <td>693</td>\n",
       "      <td>1569</td>\n",
       "      <td>162</td>\n",
       "      <td>19174</td>\n",
       "    </tr>\n",
       "  </tbody>\n",
       "</table>\n",
       "</div>"
      ],
      "text/plain": [
       "race    Amer-Indian-Eskimo  Asian-Pac-Islander  Black  Other  White\n",
       "sex                                                                \n",
       "Female                 119                 346   1555    109   8642\n",
       "Male                   192                 693   1569    162  19174"
      ]
     },
     "execution_count": 693,
     "metadata": {},
     "output_type": "execute_result"
    }
   ],
   "source": [
    "tab_freq_sex_cor = pd.crosstab(dados.sex, dados.race)\n",
    "tab_freq_sex_cor"
   ]
  },
  {
   "cell_type": "code",
   "execution_count": 694,
   "id": "f9b57724",
   "metadata": {},
   "outputs": [
    {
     "data": {
      "text/html": [
       "<div>\n",
       "<style scoped>\n",
       "    .dataframe tbody tr th:only-of-type {\n",
       "        vertical-align: middle;\n",
       "    }\n",
       "\n",
       "    .dataframe tbody tr th {\n",
       "        vertical-align: top;\n",
       "    }\n",
       "\n",
       "    .dataframe thead th {\n",
       "        text-align: right;\n",
       "    }\n",
       "</style>\n",
       "<table border=\"1\" class=\"dataframe\">\n",
       "  <thead>\n",
       "    <tr style=\"text-align: right;\">\n",
       "      <th>race</th>\n",
       "      <th>Amer-Indian-Eskimo</th>\n",
       "      <th>Asian-Pac-Islander</th>\n",
       "      <th>Black</th>\n",
       "      <th>Other</th>\n",
       "      <th>White</th>\n",
       "    </tr>\n",
       "    <tr>\n",
       "      <th>sex</th>\n",
       "      <th></th>\n",
       "      <th></th>\n",
       "      <th></th>\n",
       "      <th></th>\n",
       "      <th></th>\n",
       "    </tr>\n",
       "  </thead>\n",
       "  <tbody>\n",
       "    <tr>\n",
       "      <th>Feminino</th>\n",
       "      <td>119</td>\n",
       "      <td>346</td>\n",
       "      <td>1555</td>\n",
       "      <td>109</td>\n",
       "      <td>8642</td>\n",
       "    </tr>\n",
       "    <tr>\n",
       "      <th>Masculino</th>\n",
       "      <td>192</td>\n",
       "      <td>693</td>\n",
       "      <td>1569</td>\n",
       "      <td>162</td>\n",
       "      <td>19174</td>\n",
       "    </tr>\n",
       "  </tbody>\n",
       "</table>\n",
       "</div>"
      ],
      "text/plain": [
       "race       Amer-Indian-Eskimo  Asian-Pac-Islander  Black  Other  White\n",
       "sex                                                                   \n",
       "Feminino                  119                 346   1555    109   8642\n",
       "Masculino                 192                 693   1569    162  19174"
      ]
     },
     "execution_count": 694,
     "metadata": {},
     "output_type": "execute_result"
    }
   ],
   "source": [
    "tab_freq_sex_cor.rename(index = {'Male': 'Masculino', 'Female': 'Feminino'}, inplace=True)\n",
    "tab_freq_sex_cor"
   ]
  },
  {
   "cell_type": "markdown",
   "id": "f682715a",
   "metadata": {},
   "source": [
    "## Para renomear as colunas e traduzi-las, precisamos criar um dicionário com os valores que queremos que sejam substituídos"
   ]
  },
  {
   "cell_type": "code",
   "execution_count": 695,
   "id": "55e1f14b",
   "metadata": {},
   "outputs": [],
   "source": [
    "cor = {'Amer-Indian-Eskimo': 'Nativo_Americano',\n",
    "      'Asian-Pac-Islander' : 'Asiático',\n",
    "      'Black' : 'Negra',\n",
    "      'Other':'Outros', \n",
    "      'White':'Branca' }"
   ]
  },
  {
   "cell_type": "code",
   "execution_count": 696,
   "id": "3f61fb3d",
   "metadata": {},
   "outputs": [
    {
     "data": {
      "text/plain": [
       "{'Amer-Indian-Eskimo': 'Nativo_Americano',\n",
       " 'Asian-Pac-Islander': 'Asiático',\n",
       " 'Black': 'Negra',\n",
       " 'Other': 'Outros',\n",
       " 'White': 'Branca'}"
      ]
     },
     "execution_count": 696,
     "metadata": {},
     "output_type": "execute_result"
    }
   ],
   "source": [
    "cor"
   ]
  },
  {
   "cell_type": "markdown",
   "id": "68339125",
   "metadata": {},
   "source": [
    "## Passamos agora o dicionario que vai mudar os nomes das colunas"
   ]
  },
  {
   "cell_type": "code",
   "execution_count": 697,
   "id": "07945cd7",
   "metadata": {},
   "outputs": [
    {
     "data": {
      "text/html": [
       "<div>\n",
       "<style scoped>\n",
       "    .dataframe tbody tr th:only-of-type {\n",
       "        vertical-align: middle;\n",
       "    }\n",
       "\n",
       "    .dataframe tbody tr th {\n",
       "        vertical-align: top;\n",
       "    }\n",
       "\n",
       "    .dataframe thead th {\n",
       "        text-align: right;\n",
       "    }\n",
       "</style>\n",
       "<table border=\"1\" class=\"dataframe\">\n",
       "  <thead>\n",
       "    <tr style=\"text-align: right;\">\n",
       "      <th>race</th>\n",
       "      <th>Nativo_Americano</th>\n",
       "      <th>Asiático</th>\n",
       "      <th>Negra</th>\n",
       "      <th>Outros</th>\n",
       "      <th>Branca</th>\n",
       "    </tr>\n",
       "    <tr>\n",
       "      <th>sex</th>\n",
       "      <th></th>\n",
       "      <th></th>\n",
       "      <th></th>\n",
       "      <th></th>\n",
       "      <th></th>\n",
       "    </tr>\n",
       "  </thead>\n",
       "  <tbody>\n",
       "    <tr>\n",
       "      <th>Feminino</th>\n",
       "      <td>119</td>\n",
       "      <td>346</td>\n",
       "      <td>1555</td>\n",
       "      <td>109</td>\n",
       "      <td>8642</td>\n",
       "    </tr>\n",
       "    <tr>\n",
       "      <th>Masculino</th>\n",
       "      <td>192</td>\n",
       "      <td>693</td>\n",
       "      <td>1569</td>\n",
       "      <td>162</td>\n",
       "      <td>19174</td>\n",
       "    </tr>\n",
       "  </tbody>\n",
       "</table>\n",
       "</div>"
      ],
      "text/plain": [
       "race       Nativo_Americano  Asiático  Negra  Outros  Branca\n",
       "sex                                                         \n",
       "Feminino                119       346   1555     109    8642\n",
       "Masculino               192       693   1569     162   19174"
      ]
     },
     "execution_count": 697,
     "metadata": {},
     "output_type": "execute_result"
    }
   ],
   "source": [
    "tab_freq_sex_cor.rename(columns = cor, inplace = True)\n",
    "tab_freq_sex_cor\n"
   ]
  },
  {
   "cell_type": "markdown",
   "id": "2ec5b975",
   "metadata": {},
   "source": [
    "## Para traduzir a tag da coluna sexo, usamos o argumento 'ROW' no lugar de 'columns'"
   ]
  },
  {
   "cell_type": "code",
   "execution_count": 698,
   "id": "fa3afadd",
   "metadata": {},
   "outputs": [
    {
     "data": {
      "text/html": [
       "<div>\n",
       "<style scoped>\n",
       "    .dataframe tbody tr th:only-of-type {\n",
       "        vertical-align: middle;\n",
       "    }\n",
       "\n",
       "    .dataframe tbody tr th {\n",
       "        vertical-align: top;\n",
       "    }\n",
       "\n",
       "    .dataframe thead th {\n",
       "        text-align: right;\n",
       "    }\n",
       "</style>\n",
       "<table border=\"1\" class=\"dataframe\">\n",
       "  <thead>\n",
       "    <tr style=\"text-align: right;\">\n",
       "      <th>race</th>\n",
       "      <th>Nativo_Americano</th>\n",
       "      <th>Asiático</th>\n",
       "      <th>Negra</th>\n",
       "      <th>Outros</th>\n",
       "      <th>Branca</th>\n",
       "    </tr>\n",
       "    <tr>\n",
       "      <th>Sexo</th>\n",
       "      <th></th>\n",
       "      <th></th>\n",
       "      <th></th>\n",
       "      <th></th>\n",
       "      <th></th>\n",
       "    </tr>\n",
       "  </thead>\n",
       "  <tbody>\n",
       "    <tr>\n",
       "      <th>Feminino</th>\n",
       "      <td>119</td>\n",
       "      <td>346</td>\n",
       "      <td>1555</td>\n",
       "      <td>109</td>\n",
       "      <td>8642</td>\n",
       "    </tr>\n",
       "    <tr>\n",
       "      <th>Masculino</th>\n",
       "      <td>192</td>\n",
       "      <td>693</td>\n",
       "      <td>1569</td>\n",
       "      <td>162</td>\n",
       "      <td>19174</td>\n",
       "    </tr>\n",
       "  </tbody>\n",
       "</table>\n",
       "</div>"
      ],
      "text/plain": [
       "race       Nativo_Americano  Asiático  Negra  Outros  Branca\n",
       "Sexo                                                        \n",
       "Feminino                119       346   1555     109    8642\n",
       "Masculino               192       693   1569     162   19174"
      ]
     },
     "execution_count": 698,
     "metadata": {},
     "output_type": "execute_result"
    }
   ],
   "source": [
    "tab_freq_sex_cor.rename_axis('Sexo', axis = 'rows', inplace = True)\n",
    "tab_freq_sex_cor"
   ]
  },
  {
   "cell_type": "code",
   "execution_count": 699,
   "id": "8d8a4680",
   "metadata": {},
   "outputs": [
    {
     "data": {
      "text/html": [
       "<div>\n",
       "<style scoped>\n",
       "    .dataframe tbody tr th:only-of-type {\n",
       "        vertical-align: middle;\n",
       "    }\n",
       "\n",
       "    .dataframe tbody tr th {\n",
       "        vertical-align: top;\n",
       "    }\n",
       "\n",
       "    .dataframe thead th {\n",
       "        text-align: right;\n",
       "    }\n",
       "</style>\n",
       "<table border=\"1\" class=\"dataframe\">\n",
       "  <thead>\n",
       "    <tr style=\"text-align: right;\">\n",
       "      <th>Raça</th>\n",
       "      <th>Nativo_Americano</th>\n",
       "      <th>Asiático</th>\n",
       "      <th>Negra</th>\n",
       "      <th>Outros</th>\n",
       "      <th>Branca</th>\n",
       "    </tr>\n",
       "    <tr>\n",
       "      <th>Sexo</th>\n",
       "      <th></th>\n",
       "      <th></th>\n",
       "      <th></th>\n",
       "      <th></th>\n",
       "      <th></th>\n",
       "    </tr>\n",
       "  </thead>\n",
       "  <tbody>\n",
       "    <tr>\n",
       "      <th>Feminino</th>\n",
       "      <td>119</td>\n",
       "      <td>346</td>\n",
       "      <td>1555</td>\n",
       "      <td>109</td>\n",
       "      <td>8642</td>\n",
       "    </tr>\n",
       "    <tr>\n",
       "      <th>Masculino</th>\n",
       "      <td>192</td>\n",
       "      <td>693</td>\n",
       "      <td>1569</td>\n",
       "      <td>162</td>\n",
       "      <td>19174</td>\n",
       "    </tr>\n",
       "  </tbody>\n",
       "</table>\n",
       "</div>"
      ],
      "text/plain": [
       "Raça       Nativo_Americano  Asiático  Negra  Outros  Branca\n",
       "Sexo                                                        \n",
       "Feminino                119       346   1555     109    8642\n",
       "Masculino               192       693   1569     162   19174"
      ]
     },
     "execution_count": 699,
     "metadata": {},
     "output_type": "execute_result"
    }
   ],
   "source": [
    "tab_freq_sex_cor.rename_axis('Raça', axis = 'columns', inplace = True)\n",
    "tab_freq_sex_cor  ## traduzindo i indice das colunas"
   ]
  },
  {
   "cell_type": "markdown",
   "id": "abea2f11",
   "metadata": {},
   "source": [
    "# Criando a tabela porcentagem"
   ]
  },
  {
   "cell_type": "code",
   "execution_count": 700,
   "id": "8ebf1d9b",
   "metadata": {},
   "outputs": [
    {
     "data": {
      "text/html": [
       "<div>\n",
       "<style scoped>\n",
       "    .dataframe tbody tr th:only-of-type {\n",
       "        vertical-align: middle;\n",
       "    }\n",
       "\n",
       "    .dataframe tbody tr th {\n",
       "        vertical-align: top;\n",
       "    }\n",
       "\n",
       "    .dataframe thead th {\n",
       "        text-align: right;\n",
       "    }\n",
       "</style>\n",
       "<table border=\"1\" class=\"dataframe\">\n",
       "  <thead>\n",
       "    <tr style=\"text-align: right;\">\n",
       "      <th>race</th>\n",
       "      <th>Amer-Indian-Eskimo</th>\n",
       "      <th>Asian-Pac-Islander</th>\n",
       "      <th>Black</th>\n",
       "      <th>Other</th>\n",
       "      <th>White</th>\n",
       "    </tr>\n",
       "    <tr>\n",
       "      <th>sex</th>\n",
       "      <th></th>\n",
       "      <th></th>\n",
       "      <th></th>\n",
       "      <th></th>\n",
       "      <th></th>\n",
       "    </tr>\n",
       "  </thead>\n",
       "  <tbody>\n",
       "    <tr>\n",
       "      <th>Female</th>\n",
       "      <td>0.37</td>\n",
       "      <td>1.06</td>\n",
       "      <td>4.78</td>\n",
       "      <td>0.33</td>\n",
       "      <td>26.54</td>\n",
       "    </tr>\n",
       "    <tr>\n",
       "      <th>Male</th>\n",
       "      <td>0.59</td>\n",
       "      <td>2.13</td>\n",
       "      <td>4.82</td>\n",
       "      <td>0.50</td>\n",
       "      <td>58.89</td>\n",
       "    </tr>\n",
       "  </tbody>\n",
       "</table>\n",
       "</div>"
      ],
      "text/plain": [
       "race    Amer-Indian-Eskimo  Asian-Pac-Islander  Black  Other  White\n",
       "sex                                                                \n",
       "Female                0.37                1.06   4.78   0.33  26.54\n",
       "Male                  0.59                2.13   4.82   0.50  58.89"
      ]
     },
     "execution_count": 700,
     "metadata": {},
     "output_type": "execute_result"
    }
   ],
   "source": [
    "tab_porc_sex_cor = pd.crosstab(dados.sex, dados.race, normalize = True).round(4)*100\n",
    "tab_porc_sex_cor"
   ]
  },
  {
   "cell_type": "code",
   "execution_count": 701,
   "id": "618cef73",
   "metadata": {},
   "outputs": [
    {
     "data": {
      "text/html": [
       "<div>\n",
       "<style scoped>\n",
       "    .dataframe tbody tr th:only-of-type {\n",
       "        vertical-align: middle;\n",
       "    }\n",
       "\n",
       "    .dataframe tbody tr th {\n",
       "        vertical-align: top;\n",
       "    }\n",
       "\n",
       "    .dataframe thead th {\n",
       "        text-align: right;\n",
       "    }\n",
       "</style>\n",
       "<table border=\"1\" class=\"dataframe\">\n",
       "  <thead>\n",
       "    <tr style=\"text-align: right;\">\n",
       "      <th>Raça</th>\n",
       "      <th>Nativo_Americano</th>\n",
       "      <th>Asiático</th>\n",
       "      <th>Negra</th>\n",
       "      <th>Outros</th>\n",
       "      <th>Branca</th>\n",
       "    </tr>\n",
       "    <tr>\n",
       "      <th>Sexo</th>\n",
       "      <th></th>\n",
       "      <th></th>\n",
       "      <th></th>\n",
       "      <th></th>\n",
       "      <th></th>\n",
       "    </tr>\n",
       "  </thead>\n",
       "  <tbody>\n",
       "    <tr>\n",
       "      <th>Female</th>\n",
       "      <td>0.37</td>\n",
       "      <td>1.06</td>\n",
       "      <td>4.78</td>\n",
       "      <td>0.33</td>\n",
       "      <td>26.54</td>\n",
       "    </tr>\n",
       "    <tr>\n",
       "      <th>Male</th>\n",
       "      <td>0.59</td>\n",
       "      <td>2.13</td>\n",
       "      <td>4.82</td>\n",
       "      <td>0.50</td>\n",
       "      <td>58.89</td>\n",
       "    </tr>\n",
       "  </tbody>\n",
       "</table>\n",
       "</div>"
      ],
      "text/plain": [
       "Raça    Nativo_Americano  Asiático  Negra  Outros  Branca\n",
       "Sexo                                                     \n",
       "Female              0.37      1.06   4.78    0.33   26.54\n",
       "Male                0.59      2.13   4.82    0.50   58.89"
      ]
     },
     "execution_count": 701,
     "metadata": {},
     "output_type": "execute_result"
    }
   ],
   "source": [
    "tab_porc_sex_cor.rename(columns = cor, inplace = True)\n",
    "tab_porc_sex_cor.rename_axis('Sexo', axis = 'rows', inplace = True)\n",
    "tab_porc_sex_cor.rename_axis('Raça', axis = 'columns', inplace = True)\n",
    "tab_porc_sex_cor\n"
   ]
  },
  {
   "cell_type": "markdown",
   "id": "2fc1a664",
   "metadata": {},
   "source": [
    "## Gerando o primeiro gráfico simples, vamos investigar a proporção de pessoas em cada classe de renda ( A ou B)"
   ]
  },
  {
   "cell_type": "markdown",
   "id": "f2ac8aa4",
   "metadata": {},
   "source": [
    "### Fiz uma pequena alteração na coluna 'income' , fiz renda menor que 50K = classe B e renda maior que 50K  = classe A"
   ]
  },
  {
   "cell_type": "code",
   "execution_count": 702,
   "id": "aa95a881",
   "metadata": {},
   "outputs": [],
   "source": [
    "dados['income']=dados['income'].replace(\"<=50K\",'B').replace(\">50K\",'A')\n"
   ]
  },
  {
   "cell_type": "code",
   "execution_count": 703,
   "id": "d23e5a4f",
   "metadata": {},
   "outputs": [
    {
     "data": {
      "text/plain": [
       "B    24720\n",
       "A     7841\n",
       "Name: income, dtype: int64"
      ]
     },
     "execution_count": 703,
     "metadata": {},
     "output_type": "execute_result"
    }
   ],
   "source": [
    "dados.income.value_counts()"
   ]
  },
  {
   "cell_type": "markdown",
   "id": "84dbac3b",
   "metadata": {},
   "source": [
    "## Importando o matplotlib para plotarmos os gráficos"
   ]
  },
  {
   "cell_type": "code",
   "execution_count": 704,
   "id": "76122c69",
   "metadata": {},
   "outputs": [],
   "source": [
    "import matplotlib.pyplot as plt\n",
    "%matplotlib inline\n",
    "plt.rc('figure', figsize = (12,6))"
   ]
  },
  {
   "cell_type": "code",
   "execution_count": 705,
   "id": "8ab867ab",
   "metadata": {},
   "outputs": [
    {
     "data": {
      "image/png": "[encoded data removed]",
      "text/plain": [
       "<Figure size 864x432 with 1 Axes>"
      ]
     },
     "metadata": {
      "needs_background": "light"
     },
     "output_type": "display_data"
    }
   ],
   "source": [
    "renda_sexo = dados[\"income\"].value_counts().plot(kind=\"bar\")\n",
    "renda_sexo.set_ylabel('Ocorrências',{'fontsize': 16})\n",
    "renda_sexo.set_xlabel('Faixa de Renda',{'fontsize': 16})\n",
    "renda_sexo.set_title('Distribuição Renda x Sexo', {'fontsize': 22})    \n",
    "\n",
    "plt.show() ## esconde a legenda \" <AxesSubplot:>\" do gráfico"
   ]
  },
  {
   "cell_type": "markdown",
   "id": "16fcf1a7",
   "metadata": {},
   "source": [
    "# Vamos agora trabalhar com os dados de idade:"
   ]
  },
  {
   "cell_type": "markdown",
   "id": "51ec9ba4",
   "metadata": {},
   "source": [
    "### Gostaríamos aqui de separar as várias idades que temos no nosso dataset em faixas etárias. \n",
    "### Para tanto precisamos identificar os valores mínimos e máximos da coluna idade e separar em intervalos\n",
    "### mais ou menos iguais.\n",
    "### É preciso também identificar a quantidade de registros únicos que temos nesta coluna.\n"
   ]
  },
  {
   "cell_type": "code",
   "execution_count": 706,
   "id": "97f83b2d",
   "metadata": {},
   "outputs": [
    {
     "data": {
      "text/plain": [
       "17"
      ]
     },
     "execution_count": 706,
     "metadata": {},
     "output_type": "execute_result"
    }
   ],
   "source": [
    "dados.age.min()"
   ]
  },
  {
   "cell_type": "code",
   "execution_count": 707,
   "id": "16373a50",
   "metadata": {},
   "outputs": [
    {
     "data": {
      "text/plain": [
       "90"
      ]
     },
     "execution_count": 707,
     "metadata": {},
     "output_type": "execute_result"
    }
   ],
   "source": [
    "dados.age.max()"
   ]
  },
  {
   "cell_type": "code",
   "execution_count": 708,
   "id": "dfca1c3b",
   "metadata": {},
   "outputs": [
    {
     "data": {
      "text/plain": [
       "36    898\n",
       "31    888\n",
       "34    886\n",
       "23    877\n",
       "35    876\n",
       "     ... \n",
       "83      6\n",
       "85      3\n",
       "88      3\n",
       "86      1\n",
       "87      1\n",
       "Name: age, Length: 73, dtype: int64"
      ]
     },
     "execution_count": 708,
     "metadata": {},
     "output_type": "execute_result"
    }
   ],
   "source": [
    "dados.age.value_counts()"
   ]
  },
  {
   "cell_type": "markdown",
   "id": "50f59cce",
   "metadata": {},
   "source": [
    "## Como eu pensei?: Dividir o intervalo de dados únicos em partes iguais, foram então criados os intervalos de 0 a 17 anos, de 17 a 31, de 31 a 45.......Poderia ser feito pela  Regra de Sturges mas eu achei que a quantidade de classes ia ficar muito grande k = 16.\n"
   ]
  },
  {
   "cell_type": "code",
   "execution_count": 709,
   "id": "91312bc6",
   "metadata": {},
   "outputs": [],
   "source": [
    "# import numpy as np"
   ]
  },
  {
   "cell_type": "code",
   "execution_count": 710,
   "id": "79cc7a6b",
   "metadata": {},
   "outputs": [],
   "source": [
    "# n = dados.shape[0]\n",
    "# n"
   ]
  },
  {
   "cell_type": "code",
   "execution_count": 711,
   "id": "196ed3f1",
   "metadata": {},
   "outputs": [],
   "source": [
    "# k = 1 + (10/3)*np.log10(n)\n",
    "# k"
   ]
  },
  {
   "cell_type": "markdown",
   "id": "a0d266b7",
   "metadata": {},
   "source": [
    "## para cada intervalo foi atribuído um rótulo (label) qualquer de classificação etéria."
   ]
  },
  {
   "cell_type": "code",
   "execution_count": 712,
   "id": "f5ccacd9",
   "metadata": {},
   "outputs": [],
   "source": [
    "faixa_etaria = [0,17,31,45,59,73,90]\n",
    "rotulos = ['Jovem', 'Adulto', 'Meia_Idade', 'Maduro', 'Idoso','Ancião']"
   ]
  },
  {
   "cell_type": "code",
   "execution_count": 713,
   "id": "3c15ebb3",
   "metadata": {},
   "outputs": [
    {
     "data": {
      "text/plain": [
       "0            Ancião\n",
       "1            Ancião\n",
       "2             Idoso\n",
       "3            Maduro\n",
       "4        Meia_Idade\n",
       "            ...    \n",
       "32556        Adulto\n",
       "32557        Adulto\n",
       "32558    Meia_Idade\n",
       "32559        Maduro\n",
       "32560        Adulto\n",
       "Name: age, Length: 32561, dtype: category\n",
       "Categories (6, object): ['Jovem' < 'Adulto' < 'Meia_Idade' < 'Maduro' < 'Idoso' < 'Ancião']"
      ]
     },
     "execution_count": 713,
     "metadata": {},
     "output_type": "execute_result"
    }
   ],
   "source": [
    "pd.cut(x= dados.age, bins = faixa_etaria, labels = rotulos)"
   ]
  },
  {
   "cell_type": "markdown",
   "id": "c00f9bc6",
   "metadata": {},
   "source": [
    "## Vamos atribuir a essa série, uma variável qualquer \"classificacao_idade\""
   ]
  },
  {
   "cell_type": "code",
   "execution_count": 714,
   "id": "0534e9da",
   "metadata": {},
   "outputs": [
    {
     "data": {
      "text/plain": [
       "0            Ancião\n",
       "1            Ancião\n",
       "2             Idoso\n",
       "3            Maduro\n",
       "4        Meia_Idade\n",
       "            ...    \n",
       "32556        Adulto\n",
       "32557        Adulto\n",
       "32558    Meia_Idade\n",
       "32559        Maduro\n",
       "32560        Adulto\n",
       "Name: age, Length: 32561, dtype: category\n",
       "Categories (6, object): ['Jovem' < 'Adulto' < 'Meia_Idade' < 'Maduro' < 'Idoso' < 'Ancião']"
      ]
     },
     "execution_count": 714,
     "metadata": {},
     "output_type": "execute_result"
    }
   ],
   "source": [
    "classificacao_idade = pd.cut(x= dados.age, bins = faixa_etaria, labels = rotulos)\n",
    "classificacao_idade"
   ]
  },
  {
   "cell_type": "markdown",
   "id": "fc2b98d7",
   "metadata": {},
   "source": [
    "## Se fizermos um value_counts(), podemos ver a porcentagem de pessoas em cada faixa etária que criamos e podemos mostrar em forma de gráfico"
   ]
  },
  {
   "cell_type": "code",
   "execution_count": 715,
   "id": "df15fcfc",
   "metadata": {},
   "outputs": [
    {
     "data": {
      "text/plain": [
       "Text(0.5, 1.0, 'Distribuição Pessoas x Faixa etária')"
      ]
     },
     "execution_count": 715,
     "metadata": {},
     "output_type": "execute_result"
    },
    {
     "data": {
      "image/png": "[encoded data removed]",
      "text/plain": [
       "<Figure size 864x432 with 1 Axes>"
      ]
     },
     "metadata": {
      "needs_background": "light"
     },
     "output_type": "display_data"
    }
   ],
   "source": [
    "f_etária = classificacao_idade.value_counts(normalize= True).plot(kind = 'bar')\n",
    "f_etária.set_ylabel('Porcentagem da População',{'fontsize': 16})\n",
    "f_etária.set_xlabel('Faixa etária',{'fontsize': 16})\n",
    "f_etária.set_title('Distribuição Pessoas x Faixa etária', {'fontsize': 22})    \n",
    "\n"
   ]
  },
  {
   "cell_type": "markdown",
   "id": "2f1b7453",
   "metadata": {},
   "source": [
    "# Uma forma de plotarmos todos os graficos de variáveis categóricas e numéricas de uma vez, é separa-las em listas e fazer list compreh. com as mesmas. Uma lista vai conter as variáveis tipo \"object\" e a outra as variáveis numéricas:\n"
   ]
  },
  {
   "cell_type": "code",
   "execution_count": 716,
   "id": "4d19c663",
   "metadata": {},
   "outputs": [
    {
     "name": "stdout",
     "output_type": "stream",
     "text": [
      "<class 'pandas.core.frame.DataFrame'>\n",
      "RangeIndex: 32561 entries, 0 to 32560\n",
      "Data columns (total 15 columns):\n",
      " #   Column          Non-Null Count  Dtype \n",
      "---  ------          --------------  ----- \n",
      " 0   age             32561 non-null  int64 \n",
      " 1   workclass       32561 non-null  object\n",
      " 2   fnlwgt          32561 non-null  int64 \n",
      " 3   education       32561 non-null  object\n",
      " 4   education.num   32561 non-null  int64 \n",
      " 5   marital.status  32561 non-null  object\n",
      " 6   occupation      32561 non-null  object\n",
      " 7   relationship    32561 non-null  object\n",
      " 8   race            32561 non-null  object\n",
      " 9   sex             32561 non-null  object\n",
      " 10  capital.gain    32561 non-null  int64 \n",
      " 11  capital.loss    32561 non-null  int64 \n",
      " 12  hours.per.week  32561 non-null  int64 \n",
      " 13  native.country  32561 non-null  object\n",
      " 14  income          32561 non-null  object\n",
      "dtypes: int64(6), object(9)\n",
      "memory usage: 3.7+ MB\n"
     ]
    }
   ],
   "source": [
    "dados.info()"
   ]
  },
  {
   "cell_type": "code",
   "execution_count": 717,
   "id": "0fdf69be",
   "metadata": {},
   "outputs": [
    {
     "name": "stdout",
     "output_type": "stream",
     "text": [
      "['workclass', 'education', 'marital.status', 'occupation', 'relationship', 'race', 'sex', 'native.country', 'income']\n",
      "['age', 'fnlwgt', 'education.num', 'capital.gain', 'capital.loss', 'hours.per.week']\n"
     ]
    }
   ],
   "source": [
    "cat_var = [x for x in dados.columns if dados[x].dtype==\"O\"] ## variáveis tipo objeto\n",
    "print(cat_var)\n",
    "num_var = [x for x in dados.columns if x not in cat_var]\n",
    "print(num_var)"
   ]
  },
  {
   "cell_type": "code",
   "execution_count": 718,
   "id": "fd5c6af7",
   "metadata": {},
   "outputs": [
    {
     "data": {
      "text/plain": [
       "['workclass',\n",
       " 'education',\n",
       " 'marital.status',\n",
       " 'occupation',\n",
       " 'relationship',\n",
       " 'race',\n",
       " 'sex',\n",
       " 'native.country',\n",
       " 'income']"
      ]
     },
     "execution_count": 718,
     "metadata": {},
     "output_type": "execute_result"
    }
   ],
   "source": [
    "cat_var"
   ]
  },
  {
   "cell_type": "markdown",
   "id": "8c5f3ecf",
   "metadata": {},
   "source": [
    "# Para mostrar as variáveis em relação ao total de pessoas do conjunto de dados"
   ]
  },
  {
   "cell_type": "code",
   "execution_count": 719,
   "id": "b2f589ac",
   "metadata": {
    "scrolled": true
   },
   "outputs": [
    {
     "name": "stdout",
     "output_type": "stream",
     "text": [
      "<<<<<<workclass>>>>>>\n",
      "Private             22696\n",
      "Self-emp-not-inc     2541\n",
      "Local-gov            2093\n",
      "?                    1836\n",
      "State-gov            1298\n",
      "Self-emp-inc         1116\n",
      "Federal-gov           960\n",
      "Without-pay            14\n",
      "Never-worked            7\n",
      "Name: workclass, dtype: int64\n",
      "\n",
      "\n",
      "<<<<<<education>>>>>>\n",
      "HS-grad         10501\n",
      "Some-college     7291\n",
      "Bachelors        5355\n",
      "Masters          1723\n",
      "Assoc-voc        1382\n",
      "11th             1175\n",
      "Assoc-acdm       1067\n",
      "10th              933\n",
      "7th-8th           646\n",
      "Prof-school       576\n",
      "9th               514\n",
      "12th              433\n",
      "Doctorate         413\n",
      "5th-6th           333\n",
      "1st-4th           168\n",
      "Preschool          51\n",
      "Name: education, dtype: int64\n",
      "\n",
      "\n",
      "<<<<<<marital.status>>>>>>\n",
      "Married-civ-spouse       14976\n",
      "Never-married            10683\n",
      "Divorced                  4443\n",
      "Separated                 1025\n",
      "Widowed                    993\n",
      "Married-spouse-absent      418\n",
      "Married-AF-spouse           23\n",
      "Name: marital.status, dtype: int64\n",
      "\n",
      "\n",
      "<<<<<<occupation>>>>>>\n",
      "Prof-specialty       4140\n",
      "Craft-repair         4099\n",
      "Exec-managerial      4066\n",
      "Adm-clerical         3770\n",
      "Sales                3650\n",
      "Other-service        3295\n",
      "Machine-op-inspct    2002\n",
      "?                    1843\n",
      "Transport-moving     1597\n",
      "Handlers-cleaners    1370\n",
      "Farming-fishing       994\n",
      "Tech-support          928\n",
      "Protective-serv       649\n",
      "Priv-house-serv       149\n",
      "Armed-Forces            9\n",
      "Name: occupation, dtype: int64\n",
      "\n",
      "\n",
      "<<<<<<relationship>>>>>>\n",
      "Husband           13193\n",
      "Not-in-family      8305\n",
      "Own-child          5068\n",
      "Unmarried          3446\n",
      "Wife               1568\n",
      "Other-relative      981\n",
      "Name: relationship, dtype: int64\n",
      "\n",
      "\n",
      "<<<<<<race>>>>>>\n",
      "White                 27816\n",
      "Black                  3124\n",
      "Asian-Pac-Islander     1039\n",
      "Amer-Indian-Eskimo      311\n",
      "Other                   271\n",
      "Name: race, dtype: int64\n",
      "\n",
      "\n",
      "<<<<<<sex>>>>>>\n",
      "Male      21790\n",
      "Female    10771\n",
      "Name: sex, dtype: int64\n",
      "\n",
      "\n",
      "<<<<<<native.country>>>>>>\n",
      "United-States                 29170\n",
      "Mexico                          643\n",
      "?                               583\n",
      "Philippines                     198\n",
      "Germany                         137\n",
      "Canada                          121\n",
      "Puerto-Rico                     114\n",
      "El-Salvador                     106\n",
      "India                           100\n",
      "Cuba                             95\n",
      "England                          90\n",
      "Jamaica                          81\n",
      "South                            80\n",
      "China                            75\n",
      "Italy                            73\n",
      "Dominican-Republic               70\n",
      "Vietnam                          67\n",
      "Guatemala                        64\n",
      "Japan                            62\n",
      "Poland                           60\n",
      "Columbia                         59\n",
      "Taiwan                           51\n",
      "Haiti                            44\n",
      "Iran                             43\n",
      "Portugal                         37\n",
      "Nicaragua                        34\n",
      "Peru                             31\n",
      "Greece                           29\n",
      "France                           29\n",
      "Ecuador                          28\n",
      "Ireland                          24\n",
      "Hong                             20\n",
      "Cambodia                         19\n",
      "Trinadad&Tobago                  19\n",
      "Thailand                         18\n",
      "Laos                             18\n",
      "Yugoslavia                       16\n",
      "Outlying-US(Guam-USVI-etc)       14\n",
      "Hungary                          13\n",
      "Honduras                         13\n",
      "Scotland                         12\n",
      "Holand-Netherlands                1\n",
      "Name: native.country, dtype: int64\n",
      "\n",
      "\n",
      "<<<<<<income>>>>>>\n",
      "B    24720\n",
      "A     7841\n",
      "Name: income, dtype: int64\n",
      "\n",
      "\n"
     ]
    }
   ],
   "source": [
    "for i in cat_var:\n",
    "    print(\"<<<<<<\"+i+\">>>>>>\")\n",
    "    print(dados[i].value_counts(), end = \"\\n\")\n",
    "    print(\"\\n\")"
   ]
  },
  {
   "cell_type": "code",
   "execution_count": 720,
   "id": "787e403e",
   "metadata": {
    "scrolled": true
   },
   "outputs": [
    {
     "data": {
      "image/png": "[encoded data removed]",
      "text/plain": [
       "<Figure size 864x432 with 1 Axes>"
      ]
     },
     "metadata": {
      "needs_background": "light"
     },
     "output_type": "display_data"
    },
    {
     "data": {
      "image/png": "[encoded data removed]",
      "text/plain": [
       "<Figure size 864x432 with 1 Axes>"
      ]
     },
     "metadata": {
      "needs_background": "light"
     },
     "output_type": "display_data"
    },
    {
     "data": {
      "image/png": "[encoded data removed]",
      "text/plain": [
       "<Figure size 864x432 with 1 Axes>"
      ]
     },
     "metadata": {
      "needs_background": "light"
     },
     "output_type": "display_data"
    },
    {
     "data": {
      "image/png": "[encoded data removed]",
      "text/plain": [
       "<Figure size 864x432 with 1 Axes>"
      ]
     },
     "metadata": {
      "needs_background": "light"
     },
     "output_type": "display_data"
    },
    {
     "data": {
      "image/png": "[encoded data removed]",
      "text/plain": [
       "<Figure size 864x432 with 1 Axes>"
      ]
     },
     "metadata": {
      "needs_background": "light"
     },
     "output_type": "display_data"
    },
    {
     "data": {
      "image/png": "[encoded data removed]",
      "text/plain": [
       "<Figure size 864x432 with 1 Axes>"
      ]
     },
     "metadata": {
      "needs_background": "light"
     },
     "output_type": "display_data"
    },
    {
     "data": {
      "image/png": "[encoded data removed]",
      "text/plain": [
       "<Figure size 864x432 with 1 Axes>"
      ]
     },
     "metadata": {
      "needs_background": "light"
     },
     "output_type": "display_data"
    },
    {
     "data": {
      "image/png": "[encoded data removed]",
      "text/plain": [
       "<Figure size 864x432 with 1 Axes>"
      ]
     },
     "metadata": {
      "needs_background": "light"
     },
     "output_type": "display_data"
    },
    {
     "data": {
      "image/png": "[encoded data removed]",
      "text/plain": [
       "<Figure size 864x432 with 1 Axes>"
      ]
     },
     "metadata": {
      "needs_background": "light"
     },
     "output_type": "display_data"
    }
   ],
   "source": [
    "for i in cat_var:\n",
    "    plt.title(i)\n",
    "    sns.countplot(x = dados[i])\n",
    "    \n",
    "    plt.xticks(rotation = 90)\n",
    "    plt.show()\n",
    "    "
   ]
  },
  {
   "cell_type": "markdown",
   "id": "744805be",
   "metadata": {},
   "source": [
    "# Para melhorar esses gráficos, podemos excluir ou modificar os dados com \"?\" ,  também podemos agrupar as outras nacionalidades como não-americanos e ficarmos com dois grupos ( Americanos e não americanos)"
   ]
  },
  {
   "cell_type": "markdown",
   "id": "f9b9a962",
   "metadata": {},
   "source": [
    "# vamos substituir os valores \"?\" por valores \" other \" "
   ]
  },
  {
   "cell_type": "code",
   "execution_count": 721,
   "id": "4877eafb",
   "metadata": {},
   "outputs": [],
   "source": [
    "dados = dados.replace('?', 'others')"
   ]
  },
  {
   "cell_type": "code",
   "execution_count": 722,
   "id": "f7ceb7e4",
   "metadata": {},
   "outputs": [],
   "source": [
    "dados['native.country'] = np.where((dados['native.country']== 'United-States'), 'usa', 'non-usa')"
   ]
  },
  {
   "cell_type": "markdown",
   "id": "3c4b5ab1",
   "metadata": {},
   "source": [
    "# vamos aproveitar e analiar os mesmos graficos mas agora em relação a variável \"income\" ( renda ) "
   ]
  },
  {
   "cell_type": "code",
   "execution_count": 723,
   "id": "b0111de7",
   "metadata": {
    "scrolled": true
   },
   "outputs": [
    {
     "data": {
      "image/png": "[encoded data removed]",
      "text/plain": [
       "<Figure size 864x432 with 1 Axes>"
      ]
     },
     "metadata": {
      "needs_background": "light"
     },
     "output_type": "display_data"
    },
    {
     "data": {
      "image/png": "[encoded data removed]",
      "text/plain": [
       "<Figure size 864x432 with 1 Axes>"
      ]
     },
     "metadata": {
      "needs_background": "light"
     },
     "output_type": "display_data"
    },
    {
     "data": {
      "image/png": "[encoded data removed]",
      "text/plain": [
       "<Figure size 864x432 with 1 Axes>"
      ]
     },
     "metadata": {
      "needs_background": "light"
     },
     "output_type": "display_data"
    },
    {
     "data": {
      "image/png": "[encoded data removed]",
      "text/plain": [
       "<Figure size 864x432 with 1 Axes>"
      ]
     },
     "metadata": {
      "needs_background": "light"
     },
     "output_type": "display_data"
    },
    {
     "data": {
      "image/png": "[encoded data removed]",
      "text/plain": [
       "<Figure size 864x432 with 1 Axes>"
      ]
     },
     "metadata": {
      "needs_background": "light"
     },
     "output_type": "display_data"
    },
    {
     "data": {
      "image/png": "[encoded data removed]",
      "text/plain": [
       "<Figure size 864x432 with 1 Axes>"
      ]
     },
     "metadata": {
      "needs_background": "light"
     },
     "output_type": "display_data"
    },
    {
     "data": {
      "image/png": "[encoded data removed]",
      "text/plain": [
       "<Figure size 864x432 with 1 Axes>"
      ]
     },
     "metadata": {
      "needs_background": "light"
     },
     "output_type": "display_data"
    },
    {
     "data": {
      "image/png": "[encoded data removed]",
      "text/plain": [
       "<Figure size 864x432 with 1 Axes>"
      ]
     },
     "metadata": {
      "needs_background": "light"
     },
     "output_type": "display_data"
    },
    {
     "data": {
      "image/png": "[encoded data removed]",
      "text/plain": [
       "<Figure size 864x432 with 1 Axes>"
      ]
     },
     "metadata": {
      "needs_background": "light"
     },
     "output_type": "display_data"
    }
   ],
   "source": [
    "for i in cat_var:\n",
    "    plt.title(i)\n",
    "    sns.countplot(y = dados[i], hue = dados['income'])\n",
    "    \n",
    "    plt.xticks(rotation = 0)\n",
    "    plt.show()\n",
    "    "
   ]
  },
  {
   "cell_type": "markdown",
   "id": "aa08ecac",
   "metadata": {},
   "source": [
    "# Vamos agora analisar a os dados de educação em relação a cor das pessoas "
   ]
  },
  {
   "cell_type": "code",
   "execution_count": 724,
   "id": "0fa1f8c5",
   "metadata": {},
   "outputs": [
    {
     "data": {
      "text/html": [
       "<div>\n",
       "<style scoped>\n",
       "    .dataframe tbody tr th:only-of-type {\n",
       "        vertical-align: middle;\n",
       "    }\n",
       "\n",
       "    .dataframe tbody tr th {\n",
       "        vertical-align: top;\n",
       "    }\n",
       "\n",
       "    .dataframe thead th {\n",
       "        text-align: right;\n",
       "    }\n",
       "</style>\n",
       "<table border=\"1\" class=\"dataframe\">\n",
       "  <thead>\n",
       "    <tr style=\"text-align: right;\">\n",
       "      <th>race</th>\n",
       "      <th>Amer-Indian-Eskimo</th>\n",
       "      <th>Asian-Pac-Islander</th>\n",
       "      <th>Black</th>\n",
       "      <th>Other</th>\n",
       "      <th>White</th>\n",
       "    </tr>\n",
       "    <tr>\n",
       "      <th>education.num</th>\n",
       "      <th></th>\n",
       "      <th></th>\n",
       "      <th></th>\n",
       "      <th></th>\n",
       "      <th></th>\n",
       "    </tr>\n",
       "  </thead>\n",
       "  <tbody>\n",
       "    <tr>\n",
       "      <th>1</th>\n",
       "      <td>0</td>\n",
       "      <td>6</td>\n",
       "      <td>5</td>\n",
       "      <td>2</td>\n",
       "      <td>38</td>\n",
       "    </tr>\n",
       "    <tr>\n",
       "      <th>2</th>\n",
       "      <td>4</td>\n",
       "      <td>5</td>\n",
       "      <td>16</td>\n",
       "      <td>9</td>\n",
       "      <td>134</td>\n",
       "    </tr>\n",
       "    <tr>\n",
       "      <th>3</th>\n",
       "      <td>2</td>\n",
       "      <td>18</td>\n",
       "      <td>21</td>\n",
       "      <td>13</td>\n",
       "      <td>279</td>\n",
       "    </tr>\n",
       "    <tr>\n",
       "      <th>4</th>\n",
       "      <td>9</td>\n",
       "      <td>11</td>\n",
       "      <td>56</td>\n",
       "      <td>17</td>\n",
       "      <td>553</td>\n",
       "    </tr>\n",
       "    <tr>\n",
       "      <th>5</th>\n",
       "      <td>5</td>\n",
       "      <td>9</td>\n",
       "      <td>89</td>\n",
       "      <td>8</td>\n",
       "      <td>403</td>\n",
       "    </tr>\n",
       "    <tr>\n",
       "      <th>6</th>\n",
       "      <td>16</td>\n",
       "      <td>13</td>\n",
       "      <td>133</td>\n",
       "      <td>9</td>\n",
       "      <td>762</td>\n",
       "    </tr>\n",
       "    <tr>\n",
       "      <th>7</th>\n",
       "      <td>14</td>\n",
       "      <td>21</td>\n",
       "      <td>153</td>\n",
       "      <td>10</td>\n",
       "      <td>977</td>\n",
       "    </tr>\n",
       "    <tr>\n",
       "      <th>8</th>\n",
       "      <td>5</td>\n",
       "      <td>9</td>\n",
       "      <td>70</td>\n",
       "      <td>14</td>\n",
       "      <td>335</td>\n",
       "    </tr>\n",
       "    <tr>\n",
       "      <th>9</th>\n",
       "      <td>119</td>\n",
       "      <td>226</td>\n",
       "      <td>1174</td>\n",
       "      <td>78</td>\n",
       "      <td>8904</td>\n",
       "    </tr>\n",
       "    <tr>\n",
       "      <th>10</th>\n",
       "      <td>79</td>\n",
       "      <td>208</td>\n",
       "      <td>746</td>\n",
       "      <td>51</td>\n",
       "      <td>6207</td>\n",
       "    </tr>\n",
       "    <tr>\n",
       "      <th>11</th>\n",
       "      <td>19</td>\n",
       "      <td>38</td>\n",
       "      <td>112</td>\n",
       "      <td>6</td>\n",
       "      <td>1207</td>\n",
       "    </tr>\n",
       "    <tr>\n",
       "      <th>12</th>\n",
       "      <td>8</td>\n",
       "      <td>29</td>\n",
       "      <td>107</td>\n",
       "      <td>8</td>\n",
       "      <td>915</td>\n",
       "    </tr>\n",
       "    <tr>\n",
       "      <th>13</th>\n",
       "      <td>21</td>\n",
       "      <td>289</td>\n",
       "      <td>330</td>\n",
       "      <td>33</td>\n",
       "      <td>4682</td>\n",
       "    </tr>\n",
       "    <tr>\n",
       "      <th>14</th>\n",
       "      <td>5</td>\n",
       "      <td>88</td>\n",
       "      <td>86</td>\n",
       "      <td>7</td>\n",
       "      <td>1537</td>\n",
       "    </tr>\n",
       "    <tr>\n",
       "      <th>15</th>\n",
       "      <td>2</td>\n",
       "      <td>41</td>\n",
       "      <td>15</td>\n",
       "      <td>4</td>\n",
       "      <td>514</td>\n",
       "    </tr>\n",
       "    <tr>\n",
       "      <th>16</th>\n",
       "      <td>3</td>\n",
       "      <td>28</td>\n",
       "      <td>11</td>\n",
       "      <td>2</td>\n",
       "      <td>369</td>\n",
       "    </tr>\n",
       "  </tbody>\n",
       "</table>\n",
       "</div>"
      ],
      "text/plain": [
       "race           Amer-Indian-Eskimo  Asian-Pac-Islander  Black  Other  White\n",
       "education.num                                                             \n",
       "1                               0                   6      5      2     38\n",
       "2                               4                   5     16      9    134\n",
       "3                               2                  18     21     13    279\n",
       "4                               9                  11     56     17    553\n",
       "5                               5                   9     89      8    403\n",
       "6                              16                  13    133      9    762\n",
       "7                              14                  21    153     10    977\n",
       "8                               5                   9     70     14    335\n",
       "9                             119                 226   1174     78   8904\n",
       "10                             79                 208    746     51   6207\n",
       "11                             19                  38    112      6   1207\n",
       "12                              8                  29    107      8    915\n",
       "13                             21                 289    330     33   4682\n",
       "14                              5                  88     86      7   1537\n",
       "15                              2                  41     15      4    514\n",
       "16                              3                  28     11      2    369"
      ]
     },
     "execution_count": 724,
     "metadata": {},
     "output_type": "execute_result"
    }
   ],
   "source": [
    "tab_freq_edu_cor = pd.crosstab(dados['education.num'], dados.race)\n",
    "tab_freq_edu_cor"
   ]
  },
  {
   "cell_type": "code",
   "execution_count": 725,
   "id": "cfd18f52",
   "metadata": {},
   "outputs": [
    {
     "data": {
      "text/plain": [
       "Text(0.5, 0, 'Nível_Educacional')"
      ]
     },
     "execution_count": 725,
     "metadata": {},
     "output_type": "execute_result"
    },
    {
     "data": {
      "image/png": "[encoded data removed]",
      "text/plain": [
       "<Figure size 864x432 with 1 Axes>"
      ]
     },
     "metadata": {
      "needs_background": "light"
     },
     "output_type": "display_data"
    }
   ],
   "source": [
    "tab_freq_edu_cor.plot(kind = 'bar')\n",
    "plt.xlabel('Nível_Educacional')\n"
   ]
  },
  {
   "cell_type": "markdown",
   "id": "7ff34563",
   "metadata": {},
   "source": [
    "#  Vamos agora analisar a os dados matrimoniais em relação a cor das pessoas "
   ]
  },
  {
   "cell_type": "code",
   "execution_count": 726,
   "id": "c510535f",
   "metadata": {
    "scrolled": true
   },
   "outputs": [
    {
     "data": {
      "text/html": [
       "<div>\n",
       "<style scoped>\n",
       "    .dataframe tbody tr th:only-of-type {\n",
       "        vertical-align: middle;\n",
       "    }\n",
       "\n",
       "    .dataframe tbody tr th {\n",
       "        vertical-align: top;\n",
       "    }\n",
       "\n",
       "    .dataframe thead th {\n",
       "        text-align: right;\n",
       "    }\n",
       "</style>\n",
       "<table border=\"1\" class=\"dataframe\">\n",
       "  <thead>\n",
       "    <tr style=\"text-align: right;\">\n",
       "      <th>race</th>\n",
       "      <th>Amer-Indian-Eskimo</th>\n",
       "      <th>Asian-Pac-Islander</th>\n",
       "      <th>Black</th>\n",
       "      <th>Other</th>\n",
       "      <th>White</th>\n",
       "    </tr>\n",
       "    <tr>\n",
       "      <th>marital.status</th>\n",
       "      <th></th>\n",
       "      <th></th>\n",
       "      <th></th>\n",
       "      <th></th>\n",
       "      <th></th>\n",
       "    </tr>\n",
       "  </thead>\n",
       "  <tbody>\n",
       "    <tr>\n",
       "      <th>Divorced</th>\n",
       "      <td>0.18</td>\n",
       "      <td>0.23</td>\n",
       "      <td>1.49</td>\n",
       "      <td>0.08</td>\n",
       "      <td>11.66</td>\n",
       "    </tr>\n",
       "    <tr>\n",
       "      <th>Married-AF-spouse</th>\n",
       "      <td>0.00</td>\n",
       "      <td>0.00</td>\n",
       "      <td>0.00</td>\n",
       "      <td>0.00</td>\n",
       "      <td>0.07</td>\n",
       "    </tr>\n",
       "    <tr>\n",
       "      <th>Married-civ-spouse</th>\n",
       "      <td>0.36</td>\n",
       "      <td>1.56</td>\n",
       "      <td>2.57</td>\n",
       "      <td>0.32</td>\n",
       "      <td>41.18</td>\n",
       "    </tr>\n",
       "    <tr>\n",
       "      <th>Married-spouse-absent</th>\n",
       "      <td>0.03</td>\n",
       "      <td>0.13</td>\n",
       "      <td>0.19</td>\n",
       "      <td>0.05</td>\n",
       "      <td>0.89</td>\n",
       "    </tr>\n",
       "    <tr>\n",
       "      <th>Never-married</th>\n",
       "      <td>0.32</td>\n",
       "      <td>1.14</td>\n",
       "      <td>4.13</td>\n",
       "      <td>0.32</td>\n",
       "      <td>26.89</td>\n",
       "    </tr>\n",
       "    <tr>\n",
       "      <th>Separated</th>\n",
       "      <td>0.03</td>\n",
       "      <td>0.06</td>\n",
       "      <td>0.81</td>\n",
       "      <td>0.04</td>\n",
       "      <td>2.20</td>\n",
       "    </tr>\n",
       "    <tr>\n",
       "      <th>Widowed</th>\n",
       "      <td>0.04</td>\n",
       "      <td>0.07</td>\n",
       "      <td>0.39</td>\n",
       "      <td>0.02</td>\n",
       "      <td>2.52</td>\n",
       "    </tr>\n",
       "  </tbody>\n",
       "</table>\n",
       "</div>"
      ],
      "text/plain": [
       "race                   Amer-Indian-Eskimo  Asian-Pac-Islander  Black  Other  \\\n",
       "marital.status                                                                \n",
       "Divorced                             0.18                0.23   1.49   0.08   \n",
       "Married-AF-spouse                    0.00                0.00   0.00   0.00   \n",
       "Married-civ-spouse                   0.36                1.56   2.57   0.32   \n",
       "Married-spouse-absent                0.03                0.13   0.19   0.05   \n",
       "Never-married                        0.32                1.14   4.13   0.32   \n",
       "Separated                            0.03                0.06   0.81   0.04   \n",
       "Widowed                              0.04                0.07   0.39   0.02   \n",
       "\n",
       "race                   White  \n",
       "marital.status                \n",
       "Divorced               11.66  \n",
       "Married-AF-spouse       0.07  \n",
       "Married-civ-spouse     41.18  \n",
       "Married-spouse-absent   0.89  \n",
       "Never-married          26.89  \n",
       "Separated               2.20  \n",
       "Widowed                 2.52  "
      ]
     },
     "execution_count": 726,
     "metadata": {},
     "output_type": "execute_result"
    }
   ],
   "source": [
    "tab_freq_mat_cor = pd.crosstab(dados['marital.status'], dados.race, normalize = True).round(4)*100\n",
    "tab_freq_mat_cor"
   ]
  },
  {
   "cell_type": "code",
   "execution_count": 727,
   "id": "575e04de",
   "metadata": {},
   "outputs": [
    {
     "data": {
      "text/plain": [
       "<AxesSubplot:xlabel='marital.status'>"
      ]
     },
     "execution_count": 727,
     "metadata": {},
     "output_type": "execute_result"
    },
    {
     "data": {
      "image/png": "[encoded data removed]",
      "text/plain": [
       "<Figure size 864x432 with 1 Axes>"
      ]
     },
     "metadata": {
      "needs_background": "light"
     },
     "output_type": "display_data"
    }
   ],
   "source": [
    "tab_freq_mat_cor.plot(kind='bar')"
   ]
  },
  {
   "cell_type": "markdown",
   "id": "5945028e",
   "metadata": {},
   "source": [
    "# Podemos fazer agrupamentos e depois analisar estatísticas descritivas "
   ]
  },
  {
   "cell_type": "code",
   "execution_count": 728,
   "id": "a5d30d46",
   "metadata": {},
   "outputs": [
    {
     "data": {
      "text/plain": [
       "<pandas.core.groupby.generic.DataFrameGroupBy object at 0x0000027AF11A9340>"
      ]
     },
     "execution_count": 728,
     "metadata": {},
     "output_type": "execute_result"
    }
   ],
   "source": [
    "grupo_cor = dados.groupby('race')\n",
    "grupo_cor"
   ]
  },
  {
   "cell_type": "code",
   "execution_count": 729,
   "id": "4421673f",
   "metadata": {},
   "outputs": [
    {
     "name": "stdout",
     "output_type": "stream",
     "text": [
      "Amer-Indian-Eskimo\n",
      "Asian-Pac-Islander\n",
      "Black\n",
      "Other\n",
      "White\n"
     ]
    }
   ],
   "source": [
    "for race, dados in grupo_cor: \n",
    "    print(race)"
   ]
  },
  {
   "cell_type": "code",
   "execution_count": 730,
   "id": "21661930",
   "metadata": {},
   "outputs": [
    {
     "data": {
      "text/plain": [
       "<pandas.core.groupby.generic.DataFrameGroupBy object at 0x0000027AF11C0A00>"
      ]
     },
     "execution_count": 730,
     "metadata": {},
     "output_type": "execute_result"
    }
   ],
   "source": [
    "grupo_idade = dados.groupby('age')\n",
    "grupo_idade"
   ]
  },
  {
   "cell_type": "code",
   "execution_count": null,
   "id": "4fa0a3d4",
   "metadata": {},
   "outputs": [],
   "source": [
    "for age, dados in grupo_idade: \n",
    "    print('{} -> {}'.format(age, dados['hours.per.week'].mean()))"
   ]
  },
  {
   "cell_type": "markdown",
   "id": "4b269907",
   "metadata": {},
   "source": [
    "## Abaixo, temos a média de horas trabalhadas por semana X idade"
   ]
  },
  {
   "cell_type": "code",
   "execution_count": 731,
   "id": "8ed8604e",
   "metadata": {},
   "outputs": [
    {
     "name": "stdout",
     "output_type": "stream",
     "text": [
      "17 -> 20.882521489971346\n",
      "18 -> 25.89648033126294\n",
      "19 -> 30.68095238095238\n",
      "20 -> 32.36600306278714\n",
      "21 -> 34.58054226475279\n",
      "22 -> 35.38425925925926\n",
      "23 -> 37.20164609053498\n",
      "24 -> 39.468277945619334\n",
      "25 -> 40.21923620933522\n",
      "26 -> 41.29783950617284\n",
      "27 -> 42.695526695526695\n",
      "28 -> 42.36223776223776\n",
      "29 -> 42.64776119402985\n",
      "30 -> 42.500693481276\n",
      "31 -> 43.125836680053546\n",
      "32 -> 43.311522048364154\n",
      "33 -> 43.56944444444444\n",
      "34 -> 43.37234042553192\n",
      "35 -> 44.375170532060025\n",
      "36 -> 43.6605504587156\n",
      "37 -> 44.16395663956639\n",
      "38 -> 44.4555712270804\n",
      "39 -> 44.14782608695652\n",
      "40 -> 42.67883211678832\n",
      "41 -> 43.37865497076023\n",
      "42 -> 43.61573373676248\n",
      "43 -> 43.39692307692307\n",
      "44 -> 44.49588138385502\n",
      "45 -> 43.84201954397394\n",
      "46 -> 43.085443037974684\n",
      "47 -> 43.49419568822554\n",
      "48 -> 43.82875264270613\n",
      "49 -> 44.01968503937008\n",
      "50 -> 44.206896551724135\n",
      "51 -> 43.627184466019415\n",
      "52 -> 43.51190476190476\n",
      "53 -> 44.02577319587629\n",
      "54 -> 43.002724795640326\n",
      "55 -> 42.69505494505494\n",
      "56 -> 42.15987460815047\n",
      "57 -> 42.709150326797385\n",
      "58 -> 41.07142857142857\n",
      "59 -> 42.17391304347826\n",
      "60 -> 40.88278388278388\n",
      "61 -> 38.85\n",
      "62 -> 39.03947368421053\n",
      "63 -> 37.1421568627451\n",
      "64 -> 34.265306122448976\n",
      "65 -> 35.47239263803681\n",
      "66 -> 33.26984126984127\n",
      "67 -> 31.31851851851852\n",
      "68 -> 31.345454545454544\n",
      "69 -> 28.722772277227723\n",
      "70 -> 29.072289156626507\n",
      "71 -> 28.96969696969697\n",
      "72 -> 27.65\n",
      "73 -> 28.4\n",
      "74 -> 22.023255813953487\n",
      "75 -> 27.08108108108108\n",
      "76 -> 23.545454545454547\n",
      "77 -> 22.23076923076923\n",
      "78 -> 23.0\n",
      "79 -> 26.666666666666668\n",
      "80 -> 23.238095238095237\n",
      "81 -> 22.57894736842105\n",
      "82 -> 18.727272727272727\n",
      "83 -> 34.666666666666664\n",
      "84 -> 25.77777777777778\n",
      "85 -> 29.333333333333332\n",
      "86 -> 40.0\n",
      "87 -> 2.0\n",
      "88 -> 40.0\n",
      "90 -> 37.529411764705884\n"
     ]
    }
   ],
   "source": [
    "for age, dados in grupo_idade: \n",
    "    print('{} -> {}'.format(age, dados['hours.per.week'].mean()))"
   ]
  },
  {
   "cell_type": "markdown",
   "id": "0e294504",
   "metadata": {},
   "source": [
    "## dá pra ver como as pessoas começam trabalhando menos, tem seu pico de trabalho entre os 25 e os 60 anos de idade e depois começam a trabalhar menos"
   ]
  },
  {
   "cell_type": "code",
   "execution_count": null,
   "id": "d55543ba",
   "metadata": {},
   "outputs": [],
   "source": []
  }
 ],
 "metadata": {
  "kernelspec": {
   "display_name": "Python 3",
   "language": "python",
   "name": "python3"
  },
  "language_info": {
   "codemirror_mode": {
    "name": "ipython",
    "version": 3
   },
   "file_extension": ".py",
   "mimetype": "text/x-python",
   "name": "python",
   "nbconvert_exporter": "python",
   "pygments_lexer": "ipython3",
   "version": "3.8.8"
  }
 },
 "nbformat": 4,
 "nbformat_minor": 5
}
